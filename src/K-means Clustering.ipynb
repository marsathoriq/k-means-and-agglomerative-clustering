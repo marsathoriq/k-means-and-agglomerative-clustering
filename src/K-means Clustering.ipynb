{
 "cells": [
  {
   "cell_type": "code",
   "execution_count": 1,
   "metadata": {},
   "outputs": [],
   "source": [
    "from sklearn.datasets import load_iris\n",
    "import pandas as pd\n",
    "import math\n",
    "import numpy as np"
   ]
  },
  {
   "cell_type": "code",
   "execution_count": 2,
   "metadata": {},
   "outputs": [],
   "source": [
    "#load iris dataset\n",
    "data_iris = load_iris()\n",
    "iris_X, iris_y = load_iris(return_X_y=True)\n",
    "feature_iris = data_iris['feature_names']"
   ]
  },
  {
   "cell_type": "code",
   "execution_count": 3,
   "metadata": {},
   "outputs": [],
   "source": [
    "#transform iris into dataframe\n",
    "iris_X=pd.DataFrame(iris_X)\n",
    "iris_y=pd.DataFrame(iris_y)"
   ]
  },
  {
   "cell_type": "code",
   "execution_count": 4,
   "metadata": {},
   "outputs": [],
   "source": [
    "iris_X.rename(columns = {0:feature_iris[0],1:feature_iris[1],2:feature_iris[2],3:feature_iris[3]}, inplace = True)\n",
    "iris_y.rename(columns = {0:\"target\"}, inplace = True) "
   ]
  },
  {
   "cell_type": "code",
   "execution_count": 5,
   "metadata": {},
   "outputs": [],
   "source": [
    "def rangeFeature(data):\n",
    "    return data.min(),data.max()"
   ]
  },
  {
   "cell_type": "code",
   "execution_count": 6,
   "metadata": {},
   "outputs": [],
   "source": [
    "def setRange(data):\n",
    "    dataMin = []\n",
    "    dataMax = []\n",
    "    for index,col in enumerate(data.columns):\n",
    "        tmpMin,tmpMax=rangeFeature(data[col])\n",
    "        dataMin.append(tmpMin)\n",
    "        dataMax.append(tmpMax)\n",
    "    return dataMin,dataMax"
   ]
  },
  {
   "cell_type": "code",
   "execution_count": 7,
   "metadata": {},
   "outputs": [],
   "source": [
    "def initCentroid(cluster,dimension,dataMin,dataMax):\n",
    "    centroid = []\n",
    "    for i in range(cluster):\n",
    "        point = []\n",
    "        for j in range(dimension):\n",
    "            pos = np.random.uniform(dataMin[j],dataMax[j])\n",
    "            point.append(pos)\n",
    "        centroid.append(point)\n",
    "    return centroid"
   ]
  },
  {
   "cell_type": "code",
   "execution_count": 8,
   "metadata": {},
   "outputs": [
    {
     "data": {
      "text/plain": [
       "numpy.ndarray"
      ]
     },
     "execution_count": 8,
     "metadata": {},
     "output_type": "execute_result"
    }
   ],
   "source": [
    "type(iris_X.loc[0].values)"
   ]
  },
  {
   "cell_type": "code",
   "execution_count": 9,
   "metadata": {},
   "outputs": [],
   "source": [
    "def distFromCentroid(point1,point2):\n",
    "    sumSquare = 0\n",
    "    dimension = len(point1)\n",
    "    for i in range(dimension):\n",
    "        sumSquare += (point1[i]-point2[i])**2\n",
    "    return sumSquare ** 0.5"
   ]
  },
  {
   "cell_type": "code",
   "execution_count": 10,
   "metadata": {},
   "outputs": [],
   "source": [
    "def checkDistCentroid(centroid,data,cluster):\n",
    "    distAllCentroid = []\n",
    "    lenData = len(data)\n",
    "    \n",
    "    for i in range(cluster):\n",
    "        distCentroid = []\n",
    "        for j in range(lenData):\n",
    "            dist = distFromCentroid(data.loc[j].values,centroid[i])\n",
    "            distCentroid.append(dist)\n",
    "        distAllCentroid.append(distCentroid)\n",
    "    return distAllCentroid"
   ]
  },
  {
   "cell_type": "code",
   "execution_count": 11,
   "metadata": {},
   "outputs": [],
   "source": [
    "def checkCluster(dist,cluster):\n",
    "    mn = dist[0]\n",
    "    idx = 0\n",
    "    for i in range(1,cluster):\n",
    "        if (mn>dist[i]):\n",
    "            mn = dist[i]\n",
    "            idx = i\n",
    "    return idx"
   ]
  },
  {
   "cell_type": "code",
   "execution_count": 12,
   "metadata": {},
   "outputs": [],
   "source": [
    "def clustering(distance,cluster,lenData):\n",
    "    clusterNow = []\n",
    "    for i in range(lenData):\n",
    "        clusterNow.append(checkCluster(distance[i],cluster))\n",
    "    return clusterNow"
   ]
  },
  {
   "cell_type": "code",
   "execution_count": 13,
   "metadata": {},
   "outputs": [],
   "source": [
    "def moveCentroid(cluster,data):\n",
    "    lenData = len(data)\n",
    "    cntCluster = max(cluster) + 1\n",
    "    centroid = []\n",
    "    \n",
    "    for i in range(cntCluster):\n",
    "        cnt = 0\n",
    "        point = [0]*len(data.columns)\n",
    "        # get sum of coordinate one cluster\n",
    "        for j in range(lenData):\n",
    "            if (cluster[j]==i):\n",
    "                cnt+=1\n",
    "                for k,col in enumerate(data.columns):\n",
    "                    point[k] += data.loc[j][col]\n",
    "        # get average of coordinate one cluster\n",
    "        for j in range(len(data.columns)):\n",
    "            if (cnt != 0):\n",
    "                point[j] /= cnt \n",
    "        centroid.append(point)\n",
    "    return centroid"
   ]
  },
  {
   "cell_type": "code",
   "execution_count": 14,
   "metadata": {},
   "outputs": [],
   "source": [
    "def kmeans(data,cluster):\n",
    "    dataMin = []\n",
    "    dataMax = []\n",
    "    centroid = []\n",
    "    distance = []\n",
    "    lenData = len(data)\n",
    "    clusterNow = []\n",
    "    prevCluster = []\n",
    "    \n",
    "    # set range every columns\n",
    "    dataMin,dataMax = setRange(data)\n",
    "    # inisialize centroid\n",
    "    centroid = initCentroid(cluster,len(data.columns),dataMin,dataMax)\n",
    "    # check distance from centroid\n",
    "    distance = pd.DataFrame(checkDistCentroid(centroid,data,cluster))\n",
    "    # clustering\n",
    "    clusterNow = clustering(distance, cluster, lenData)\n",
    "    \n",
    "    while(clusterNow != prevCluster):\n",
    "        prevCluster = clusterNow\n",
    "        centroid = moveCentroid(clusterNow,data)\n",
    "        distance = pd.DataFrame(checkDistCentroid(centroid,data,cluster))\n",
    "        clusterNow = clustering(distance, cluster, lenData)\n",
    "    return clusterNow"
   ]
  },
  {
   "cell_type": "code",
   "execution_count": 15,
   "metadata": {},
   "outputs": [
    {
     "data": {
      "text/plain": [
       "[1,\n",
       " 1,\n",
       " 1,\n",
       " 1,\n",
       " 1,\n",
       " 1,\n",
       " 1,\n",
       " 1,\n",
       " 1,\n",
       " 1,\n",
       " 1,\n",
       " 1,\n",
       " 1,\n",
       " 1,\n",
       " 1,\n",
       " 1,\n",
       " 1,\n",
       " 1,\n",
       " 1,\n",
       " 1,\n",
       " 1,\n",
       " 1,\n",
       " 1,\n",
       " 1,\n",
       " 1,\n",
       " 1,\n",
       " 1,\n",
       " 1,\n",
       " 1,\n",
       " 1,\n",
       " 1,\n",
       " 1,\n",
       " 1,\n",
       " 1,\n",
       " 1,\n",
       " 1,\n",
       " 1,\n",
       " 1,\n",
       " 1,\n",
       " 1,\n",
       " 1,\n",
       " 1,\n",
       " 1,\n",
       " 1,\n",
       " 1,\n",
       " 1,\n",
       " 1,\n",
       " 1,\n",
       " 1,\n",
       " 1,\n",
       " 2,\n",
       " 2,\n",
       " 0,\n",
       " 2,\n",
       " 2,\n",
       " 2,\n",
       " 2,\n",
       " 2,\n",
       " 2,\n",
       " 2,\n",
       " 2,\n",
       " 2,\n",
       " 2,\n",
       " 2,\n",
       " 2,\n",
       " 2,\n",
       " 2,\n",
       " 2,\n",
       " 2,\n",
       " 2,\n",
       " 2,\n",
       " 2,\n",
       " 2,\n",
       " 2,\n",
       " 2,\n",
       " 2,\n",
       " 2,\n",
       " 0,\n",
       " 2,\n",
       " 2,\n",
       " 2,\n",
       " 2,\n",
       " 2,\n",
       " 2,\n",
       " 2,\n",
       " 2,\n",
       " 2,\n",
       " 2,\n",
       " 2,\n",
       " 2,\n",
       " 2,\n",
       " 2,\n",
       " 2,\n",
       " 2,\n",
       " 2,\n",
       " 2,\n",
       " 2,\n",
       " 2,\n",
       " 2,\n",
       " 2,\n",
       " 0,\n",
       " 2,\n",
       " 0,\n",
       " 0,\n",
       " 0,\n",
       " 0,\n",
       " 2,\n",
       " 0,\n",
       " 0,\n",
       " 0,\n",
       " 0,\n",
       " 0,\n",
       " 0,\n",
       " 2,\n",
       " 2,\n",
       " 0,\n",
       " 0,\n",
       " 0,\n",
       " 0,\n",
       " 2,\n",
       " 0,\n",
       " 2,\n",
       " 0,\n",
       " 2,\n",
       " 0,\n",
       " 0,\n",
       " 2,\n",
       " 2,\n",
       " 0,\n",
       " 0,\n",
       " 0,\n",
       " 0,\n",
       " 0,\n",
       " 2,\n",
       " 0,\n",
       " 0,\n",
       " 0,\n",
       " 0,\n",
       " 2,\n",
       " 0,\n",
       " 0,\n",
       " 0,\n",
       " 2,\n",
       " 0,\n",
       " 0,\n",
       " 0,\n",
       " 2,\n",
       " 0,\n",
       " 0,\n",
       " 2]"
      ]
     },
     "execution_count": 15,
     "metadata": {},
     "output_type": "execute_result"
    }
   ],
   "source": [
    "clustering_result = kmeans(iris_X,3)\n",
    "clustering_result"
   ]
  },
  {
   "cell_type": "code",
   "execution_count": 16,
   "metadata": {},
   "outputs": [],
   "source": [
    "clustering_res = pd.DataFrame(clustering_result)\n",
    "data = pd.concat([iris_X, clustering_res], axis=1)\n",
    "data.rename(columns={0:\"clustering_result\"}, inplace = True)\n",
    "# data"
   ]
  },
  {
   "cell_type": "code",
   "execution_count": 17,
   "metadata": {},
   "outputs": [
    {
     "data": {
      "text/plain": [
       "Index(['sepal length (cm)', 'sepal width (cm)', 'petal length (cm)',\n",
       "       'petal width (cm)', 'clustering_result'],\n",
       "      dtype='object')"
      ]
     },
     "execution_count": 17,
     "metadata": {},
     "output_type": "execute_result"
    }
   ],
   "source": [
    "data.columns"
   ]
  },
  {
   "cell_type": "code",
   "execution_count": 18,
   "metadata": {},
   "outputs": [
    {
     "data": {
      "image/png": "[encoded data removed]",
      "text/plain": [
       "<Figure size 451.375x360 with 1 Axes>"
      ]
     },
     "metadata": {
      "needs_background": "light"
     },
     "output_type": "display_data"
    }
   ],
   "source": [
    "import matplotlib.pyplot as plt\n",
    "import seaborn as sns\n",
    "\n",
    "import pandas as pd\n",
    "\n",
    "sns.lmplot('petal length (cm)', 'petal width (cm)', data=data, hue='clustering_result', fit_reg=False)\n",
    "ax = plt.gca()\n",
    "ax.set_title('Clustering result comparing petal width and petal length')\n",
    "plt.show()"
   ]
  },
  {
   "cell_type": "code",
   "execution_count": 19,
   "metadata": {
    "scrolled": false
   },
   "outputs": [
    {
     "data": {
      "image/png": "[encoded data removed]",
      "text/plain": [
       "<Figure size 451.375x360 with 1 Axes>"
      ]
     },
     "metadata": {
      "needs_background": "light"
     },
     "output_type": "display_data"
    }
   ],
   "source": [
    "import matplotlib.pyplot as plt\n",
    "import seaborn as sns\n",
    "\n",
    "import pandas as pd\n",
    "\n",
    "sns.lmplot('sepal width (cm)', 'sepal length (cm)', data=data, hue='clustering_result', fit_reg=False)\n",
    "ax = plt.gca()\n",
    "ax.set_title('Clustering result comparing sepal width and sepal length')\n",
    "plt.show()"
   ]
  },
  {
   "cell_type": "code",
   "execution_count": 41,
   "metadata": {},
   "outputs": [
    {
     "data": {
      "text/plain": [
       "array([6.7, 3. , 5.2, 2.3])"
      ]
     },
     "execution_count": 41,
     "metadata": {},
     "output_type": "execute_result"
    }
   ],
   "source": [
    "iris_X.loc[145].values"
   ]
  },
  {
   "cell_type": "code",
   "execution_count": 119,
   "metadata": {},
   "outputs": [],
   "source": [
    "def euclidean_dist(point1, point2):\n",
    "    distance = 0\n",
    "    dimension = len(point1)\n",
    "    \n",
    "    for i in range(dimension):\n",
    "        distance += (point1[i]-point2[i])**2\n",
    "        \n",
    "    return distance ** 0.5"
   ]
  },
  {
   "cell_type": "code",
   "execution_count": 120,
   "metadata": {},
   "outputs": [],
   "source": [
    "def init_proximity_matrix(data):\n",
    "    matrix = [[0 for i in range(len(data))] for j in range(len(data))]\n",
    "    \n",
    "    for i in range(len(data)):\n",
    "        for j in range(i, len(data)):\n",
    "            if (i != j):\n",
    "                proximity = euclidean_dist(data.loc[i].values, data.loc[j].values)\n",
    "                matrix[i][j] = proximity\n",
    "                matrix[j][i] = proximity\n",
    "    \n",
    "    return matrix"
   ]
  },
  {
   "cell_type": "code",
   "execution_count": 121,
   "metadata": {},
   "outputs": [],
   "source": [
    "def init_cluster(n_cluster):\n",
    "    clusters = []\n",
    "    \n",
    "    for i in range(n_cluster):\n",
    "        clusters.append(str(i))\n",
    "        \n",
    "    return clusters"
   ]
  },
  {
   "cell_type": "code",
   "execution_count": 208,
   "metadata": {},
   "outputs": [],
   "source": [
    "def find_shortest_dist(proximity_matrix):\n",
    "    min_distance = float(\"inf\")\n",
    "    result = [0, 1]\n",
    "    \n",
    "    for i in range(len(proximity_matrix)):\n",
    "        for j in range(i, len(proximity_matrix)):\n",
    "            if (proximity_matrix[i][j] > 0) and (proximity_matrix[i][j] < min_distance):\n",
    "                min_distance = proximity_matrix[i][j]\n",
    "                print(min_distance)\n",
    "                result[0] = i\n",
    "                result[1] = j\n",
    "    \n",
    "    return result"
   ]
  },
  {
   "cell_type": "code",
   "execution_count": 224,
   "metadata": {},
   "outputs": [],
   "source": [
    "def update_clusters(clusters, cluster1, cluster2):\n",
    "    updated_clusters = []\n",
    "    \n",
    "    for i in range(len(clusters)-1):\n",
    "        if (i != cluster1):\n",
    "            if (i >= cluster2):\n",
    "                updated_clusters.append(clusters[i+1])\n",
    "            else:\n",
    "                updated_clusters.append(clusters[i])\n",
    "        else:\n",
    "            updated_clusters.append(clusters[cluster1] + \",\" + clusters[cluster2])\n",
    "    \n",
    "    return updated_clusters"
   ]
  },
  {
   "cell_type": "code",
   "execution_count": 225,
   "metadata": {},
   "outputs": [],
   "source": [
    "def find_min(a, b):\n",
    "    if (a <= b):\n",
    "        return a\n",
    "    return b"
   ]
  },
  {
   "cell_type": "code",
   "execution_count": 226,
   "metadata": {},
   "outputs": [],
   "source": [
    "def update_proximity_matrix(matrix, cluster1, cluster2):\n",
    "    updated_matrix = [[0 for i in range(len(matrix)-1)] for j in range(len(matrix)-1)]\n",
    "\n",
    "    for i in range(len(updated_matrix)):\n",
    "        if (i != cluster1):\n",
    "            idx_i = i\n",
    "            if (i >= cluster2):\n",
    "                idx_i += 1\n",
    "\n",
    "            for j in range(idx_i, len(updated_matrix)):\n",
    "                if (i != j):\n",
    "                    if (j != cluster1):\n",
    "                        if (j >= cluster2):\n",
    "                            updated_matrix[i][j] = matrix[idx_i][j+1]\n",
    "                            updated_matrix[j][i] = matrix[idx_i][j+1]\n",
    "                        else:\n",
    "                            updated_matrix[i][j] = matrix[idx_i][j]\n",
    "                            updated_matrix[j][i] = matrix[idx_i][j]\n",
    "                    else:\n",
    "                        updated_matrix[i][j] = min([matrix[idx_i][cluster1], matrix[idx_i][cluster2]])\n",
    "                        updated_matrix[j][i] = min([matrix[idx_i][cluster1], matrix[idx_i][cluster2]])\n",
    "                        \n",
    "        else:\n",
    "            for j in range(i, len(updated_matrix)):\n",
    "                if (i != j):\n",
    "                    if (j >= cluster2):\n",
    "                        updated_matrix[i][j] = min([matrix[cluster1][j+1], matrix[cluster2][j+1]]) \n",
    "                        updated_matrix[j][i] = min([matrix[cluster1][j+1], matrix[cluster2][j+1]]) \n",
    "                    else:\n",
    "                        updated_matrix[i][j] = min([matrix[cluster1][j], matrix[cluster2][j]]) \n",
    "                        updated_matrix[j][i] = min([matrix[cluster1][j], matrix[cluster2][j]]) \n",
    "                        \n",
    "    return updated_matrix"
   ]
  },
  {
   "cell_type": "code",
   "execution_count": 231,
   "metadata": {},
   "outputs": [],
   "source": [
    "def agglomerative(data, cluster, linkage):\n",
    "#     n_cluster = len(data)\n",
    "#     proximity_matrix = init_proximity_matrix(data)\n",
    "#     clusters = init_cluster(n_cluster)\n",
    "#     n_cluster = 6\n",
    "#     proximity_matrix = [[0.00, 0.71, 5.66, 3.61, 4.24, 3.20], [0.71, 0.00, 4.95, 2.92, 3.54, 2.50], [5.66, 4.95, 0.00, 2.24, 1.41, 2.50], [3.61, 2.92, 2.24, 0.00, 1.00, 0.50], [4.24, 3.54, 1.41, 1.00, 0.00, 1.12], [3.20, 2.50, 2.50, 0.50, 1.12, 0.00]]\n",
    "#     clusters = ['a', 'b', 'c', 'd', 'e', 'f']\n",
    "    n_cluster = 4\n",
    "    proximity_matrix = [[0, 1, 4, 5], [1, 0, 2, 6], [4, 2, 0, 3], [5, 6, 3, 0]]\n",
    "    clusters = ['a', 'b', 'c', 'd']\n",
    "    \n",
    "    if (len(data) > 1):\n",
    "        while (n_cluster > cluster):\n",
    "            if (linkage == \"single\"):                \n",
    "                cluster_pair = find_shortest_dist(proximity_matrix)\n",
    "                print(cluster_pair)\n",
    "                print(proximity_matrix)\n",
    "                print(clusters)\n",
    "                clusters = update_clusters(clusters, cluster_pair[0], cluster_pair[1])  \n",
    "                proximity_matrix = update_proximity_matrix(proximity_matrix, cluster_pair[0], cluster_pair[1])\n",
    "\n",
    "            n_cluster -= 1\n",
    "    \n",
    "    return clusters"
   ]
  },
  {
   "cell_type": "code",
   "execution_count": 232,
   "metadata": {},
   "outputs": [
    {
     "name": "stdout",
     "output_type": "stream",
     "text": [
      "1\n",
      "[0, 1]\n",
      "[[0, 1, 4, 5], [1, 0, 2, 6], [4, 2, 0, 3], [5, 6, 3, 0]]\n",
      "['a', 'b', 'c', 'd']\n",
      "2\n",
      "[0, 1]\n",
      "[[0, 2, 5], [2, 0, 3], [5, 3, 0]]\n",
      "['a,b', 'c', 'd']\n",
      "3\n",
      "[0, 1]\n",
      "[[0, 3], [3, 0]]\n",
      "['a,b,c', 'd']\n",
      "['a,b,c,d']\n"
     ]
    }
   ],
   "source": [
    "print(agglomerative(iris_X, 1, \"single\"))"
   ]
  },
  {
   "cell_type": "code",
   "execution_count": null,
   "metadata": {},
   "outputs": [],
   "source": []
  }
 ],
 "metadata": {
  "kernelspec": {
   "display_name": "Python 3",
   "language": "python",
   "name": "python3"
  },
  "language_info": {
   "codemirror_mode": {
    "name": "ipython",
    "version": 3
   },
   "file_extension": ".py",
   "mimetype": "text/x-python",
   "name": "python",
   "nbconvert_exporter": "python",
   "pygments_lexer": "ipython3",
   "version": "3.7.4"
  }
 },
 "nbformat": 4,
 "nbformat_minor": 2
}
