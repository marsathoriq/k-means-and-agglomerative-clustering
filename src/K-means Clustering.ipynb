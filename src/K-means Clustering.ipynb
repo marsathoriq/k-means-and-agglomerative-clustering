{
 "cells": [
  {
   "cell_type": "code",
   "execution_count": 107,
   "metadata": {},
   "outputs": [],
   "source": [
    "from sklearn.datasets import load_iris\n",
    "import pandas as pd\n",
    "import math\n",
    "import numpy as np"
   ]
  },
  {
   "cell_type": "code",
   "execution_count": 108,
   "metadata": {},
   "outputs": [],
   "source": [
    "#load iris dataset\n",
    "data_iris = load_iris()\n",
    "iris_X, iris_y = load_iris(return_X_y=True)\n",
    "feature_iris = data_iris['feature_names']"
   ]
  },
  {
   "cell_type": "code",
   "execution_count": 109,
   "metadata": {},
   "outputs": [],
   "source": [
    "#transform iris into dataframe\n",
    "iris_X=pd.DataFrame(iris_X)\n",
    "iris_y=pd.DataFrame(iris_y)"
   ]
  },
  {
   "cell_type": "code",
   "execution_count": 110,
   "metadata": {},
   "outputs": [],
   "source": [
    "iris_X.rename(columns = {0:feature_iris[0],1:feature_iris[1],2:feature_iris[2],3:feature_iris[3]}, inplace = True)\n",
    "iris_y.rename(columns = {0:\"target\"}, inplace = True) "
   ]
  },
  {
   "cell_type": "code",
   "execution_count": 111,
   "metadata": {},
   "outputs": [],
   "source": [
    "def rangeFeature(data):\n",
    "    return data.min(),data.max()"
   ]
  },
  {
   "cell_type": "code",
   "execution_count": 112,
   "metadata": {},
   "outputs": [],
   "source": [
    "def setRange(data):\n",
    "    dataMin = []\n",
    "    dataMax = []\n",
    "    for index,col in enumerate(data.columns):\n",
    "        tmpMin,tmpMax=rangeFeature(data[col])\n",
    "        dataMin.append(tmpMin)\n",
    "        dataMax.append(tmpMax)\n",
    "    return dataMin,dataMax"
   ]
  },
  {
   "cell_type": "code",
   "execution_count": 113,
   "metadata": {},
   "outputs": [],
   "source": [
    "def initCentroid(cluster,dimension,dataMin,dataMax):\n",
    "    centroid = []\n",
    "    for i in range(cluster):\n",
    "        point = []\n",
    "        for j in range(dimension):\n",
    "            pos = np.random.uniform(dataMin[j],dataMax[j])\n",
    "            point.append(pos)\n",
    "        centroid.append(point)\n",
    "    return centroid"
   ]
  },
  {
   "cell_type": "code",
   "execution_count": 114,
   "metadata": {},
   "outputs": [
    {
     "data": {
      "text/plain": [
       "numpy.ndarray"
      ]
     },
     "execution_count": 114,
     "metadata": {},
     "output_type": "execute_result"
    }
   ],
   "source": [
    "type(iris_X.loc[0].values)"
   ]
  },
  {
   "cell_type": "code",
   "execution_count": 115,
   "metadata": {},
   "outputs": [],
   "source": [
    "def distFromCentroid(point1,point2):\n",
    "    sumSquare = 0\n",
    "    dimension = len(point1)\n",
    "    for i in range(dimension):\n",
    "        sumSquare += (point1[i]-point2[i])**2\n",
    "    return sumSquare ** 0.5"
   ]
  },
  {
   "cell_type": "code",
   "execution_count": 116,
   "metadata": {},
   "outputs": [],
   "source": [
    "def checkDistCentroid(centroid,data,cluster):\n",
    "    distAllCentroid = []\n",
    "    lenData = len(data)\n",
    "    \n",
    "    for i in range(cluster):\n",
    "        distCentroid = []\n",
    "        for j in range(lenData):\n",
    "            dist = distFromCentroid(data.loc[j].values,centroid[i])\n",
    "            distCentroid.append(dist)\n",
    "        distAllCentroid.append(distCentroid)\n",
    "    return distAllCentroid"
   ]
  },
  {
   "cell_type": "code",
   "execution_count": 117,
   "metadata": {},
   "outputs": [],
   "source": [
    "def checkCluster(dist,cluster):\n",
    "    mn = dist[0]\n",
    "    idx = 0\n",
    "    for i in range(1,cluster):\n",
    "        if (mn>dist[i]):\n",
    "            mn = dist[i]\n",
    "            idx = i\n",
    "    return idx"
   ]
  },
  {
   "cell_type": "code",
   "execution_count": 118,
   "metadata": {},
   "outputs": [],
   "source": [
    "def clustering(distance,cluster,lenData):\n",
    "    clusterNow = []\n",
    "    for i in range(lenData):\n",
    "        clusterNow.append(checkCluster(distance[i],cluster))\n",
    "    return clusterNow"
   ]
  },
  {
   "cell_type": "code",
   "execution_count": 119,
   "metadata": {},
   "outputs": [],
   "source": [
    "def moveCentroid(cluster,data):\n",
    "    lenData = len(data)\n",
    "    cntCluster = max(cluster) + 1\n",
    "    centroid = []\n",
    "    \n",
    "    for i in range(cntCluster):\n",
    "        cnt = 0\n",
    "        point = [0]*len(data.columns)\n",
    "        # get sum of coordinate one cluster\n",
    "        for j in range(lenData):\n",
    "            if (cluster[j]==i):\n",
    "                cnt+=1\n",
    "                for k,col in enumerate(data.columns):\n",
    "                    point[k] += data.loc[j][col]\n",
    "        # get average of coordinate one cluster\n",
    "        for j in range(len(data.columns)):\n",
    "            if (cnt != 0):\n",
    "                point[j] /= cnt \n",
    "        centroid.append(point)\n",
    "    return centroid"
   ]
  },
  {
   "cell_type": "code",
   "execution_count": 120,
   "metadata": {},
   "outputs": [],
   "source": [
    "def kmeans(data,cluster):\n",
    "    dataMin = []\n",
    "    dataMax = []\n",
    "    centroid = []\n",
    "    distance = []\n",
    "    lenData = len(data)\n",
    "    clusterNow = []\n",
    "    prevCluster = []\n",
    "    \n",
    "    # set range every columns\n",
    "    dataMin,dataMax = setRange(data)\n",
    "    # inisialize centroid\n",
    "    centroid = initCentroid(cluster,len(data.columns),dataMin,dataMax)\n",
    "    # check distance from centroid\n",
    "    distance = pd.DataFrame(checkDistCentroid(centroid,data,cluster))\n",
    "    # clustering\n",
    "    clusterNow = clustering(distance, cluster, lenData)\n",
    "    \n",
    "    while(clusterNow != prevCluster):\n",
    "        prevCluster = clusterNow\n",
    "        centroid = moveCentroid(clusterNow,data)\n",
    "        distance = pd.DataFrame(checkDistCentroid(centroid,data,cluster))\n",
    "        clusterNow = clustering(distance, cluster, lenData)\n",
    "    return clusterNow"
   ]
  },
  {
   "cell_type": "code",
   "execution_count": 121,
   "metadata": {},
   "outputs": [
    {
     "data": {
      "text/plain": [
       "[1,\n",
       " 1,\n",
       " 1,\n",
       " 1,\n",
       " 1,\n",
       " 1,\n",
       " 1,\n",
       " 1,\n",
       " 1,\n",
       " 1,\n",
       " 1,\n",
       " 1,\n",
       " 1,\n",
       " 1,\n",
       " 1,\n",
       " 1,\n",
       " 1,\n",
       " 1,\n",
       " 1,\n",
       " 1,\n",
       " 1,\n",
       " 1,\n",
       " 1,\n",
       " 1,\n",
       " 1,\n",
       " 1,\n",
       " 1,\n",
       " 1,\n",
       " 1,\n",
       " 1,\n",
       " 1,\n",
       " 1,\n",
       " 1,\n",
       " 1,\n",
       " 1,\n",
       " 1,\n",
       " 1,\n",
       " 1,\n",
       " 1,\n",
       " 1,\n",
       " 1,\n",
       " 1,\n",
       " 1,\n",
       " 1,\n",
       " 1,\n",
       " 1,\n",
       " 1,\n",
       " 1,\n",
       " 1,\n",
       " 1,\n",
       " 0,\n",
       " 0,\n",
       " 2,\n",
       " 0,\n",
       " 0,\n",
       " 0,\n",
       " 0,\n",
       " 0,\n",
       " 0,\n",
       " 0,\n",
       " 0,\n",
       " 0,\n",
       " 0,\n",
       " 0,\n",
       " 0,\n",
       " 0,\n",
       " 0,\n",
       " 0,\n",
       " 0,\n",
       " 0,\n",
       " 0,\n",
       " 0,\n",
       " 0,\n",
       " 0,\n",
       " 0,\n",
       " 0,\n",
       " 0,\n",
       " 2,\n",
       " 0,\n",
       " 0,\n",
       " 0,\n",
       " 0,\n",
       " 0,\n",
       " 0,\n",
       " 0,\n",
       " 0,\n",
       " 0,\n",
       " 0,\n",
       " 0,\n",
       " 0,\n",
       " 0,\n",
       " 0,\n",
       " 0,\n",
       " 0,\n",
       " 0,\n",
       " 0,\n",
       " 0,\n",
       " 0,\n",
       " 0,\n",
       " 0,\n",
       " 2,\n",
       " 0,\n",
       " 2,\n",
       " 2,\n",
       " 2,\n",
       " 2,\n",
       " 0,\n",
       " 2,\n",
       " 2,\n",
       " 2,\n",
       " 2,\n",
       " 2,\n",
       " 2,\n",
       " 0,\n",
       " 0,\n",
       " 2,\n",
       " 2,\n",
       " 2,\n",
       " 2,\n",
       " 0,\n",
       " 2,\n",
       " 0,\n",
       " 2,\n",
       " 0,\n",
       " 2,\n",
       " 2,\n",
       " 0,\n",
       " 0,\n",
       " 2,\n",
       " 2,\n",
       " 2,\n",
       " 2,\n",
       " 2,\n",
       " 0,\n",
       " 2,\n",
       " 2,\n",
       " 2,\n",
       " 2,\n",
       " 0,\n",
       " 2,\n",
       " 2,\n",
       " 2,\n",
       " 0,\n",
       " 2,\n",
       " 2,\n",
       " 2,\n",
       " 0,\n",
       " 2,\n",
       " 2,\n",
       " 0]"
      ]
     },
     "execution_count": 121,
     "metadata": {},
     "output_type": "execute_result"
    }
   ],
   "source": [
    "clustering_result = kmeans(iris_X,3)\n",
    "clustering_result"
   ]
  },
  {
   "cell_type": "code",
   "execution_count": 122,
   "metadata": {},
   "outputs": [],
   "source": [
    "clustering_res = pd.DataFrame(clustering_result)\n",
    "data = pd.concat([iris_X, clustering_res], axis=1)\n",
    "data.rename(columns={0:\"clustering_result\"}, inplace = True)\n",
    "# data"
   ]
  },
  {
   "cell_type": "code",
   "execution_count": 123,
   "metadata": {},
   "outputs": [
    {
     "data": {
      "text/plain": [
       "Index(['sepal length (cm)', 'sepal width (cm)', 'petal length (cm)',\n",
       "       'petal width (cm)', 'clustering_result'],\n",
       "      dtype='object')"
      ]
     },
     "execution_count": 123,
     "metadata": {},
     "output_type": "execute_result"
    }
   ],
   "source": [
    "data.columns"
   ]
  },
  {
   "cell_type": "code",
   "execution_count": 124,
   "metadata": {},
   "outputs": [
    {
     "data": {
      "image/png": "[encoded data removed]",
      "text/plain": [
       "<Figure size 451.375x360 with 1 Axes>"
      ]
     },
     "metadata": {
      "needs_background": "light"
     },
     "output_type": "display_data"
    }
   ],
   "source": [
    "import matplotlib.pyplot as plt\n",
    "import seaborn as sns\n",
    "\n",
    "import pandas as pd\n",
    "\n",
    "sns.lmplot('petal length (cm)', 'petal width (cm)', data=data, hue='clustering_result', fit_reg=False)\n",
    "ax = plt.gca()\n",
    "ax.set_title('Clustering result comparing petal width and petal length')\n",
    "plt.show()"
   ]
  },
  {
   "cell_type": "code",
   "execution_count": 126,
   "metadata": {
    "scrolled": true
   },
   "outputs": [
    {
     "data": {
      "image/png": "[encoded data removed]",
      "text/plain": [
       "<Figure size 451.375x360 with 1 Axes>"
      ]
     },
     "metadata": {
      "needs_background": "light"
     },
     "output_type": "display_data"
    }
   ],
   "source": [
    "import matplotlib.pyplot as plt\n",
    "import seaborn as sns\n",
    "\n",
    "import pandas as pd\n",
    "\n",
    "sns.lmplot('sepal width (cm)', 'sepal length (cm)', data=data, hue='clustering_result', fit_reg=False)\n",
    "ax = plt.gca()\n",
    "ax.set_title('Clustering result comparing sepal width and sepal length')\n",
    "plt.show()"
   ]
  },
  {
   "cell_type": "code",
   "execution_count": null,
   "metadata": {},
   "outputs": [],
   "source": []
  }
 ],
 "metadata": {
  "kernelspec": {
   "display_name": "Python 3",
   "language": "python",
   "name": "python3"
  },
  "language_info": {
   "codemirror_mode": {
    "name": "ipython",
    "version": 3
   },
   "file_extension": ".py",
   "mimetype": "text/x-python",
   "name": "python",
   "nbconvert_exporter": "python",
   "pygments_lexer": "ipython3",
   "version": "3.7.3"
  }
 },
 "nbformat": 4,
 "nbformat_minor": 2
}
